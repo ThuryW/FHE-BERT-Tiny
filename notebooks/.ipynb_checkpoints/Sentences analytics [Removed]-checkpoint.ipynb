{
 "cells": [
  {
   "cell_type": "code",
   "execution_count": 2,
   "id": "37a73211",
   "metadata": {},
   "outputs": [],
   "source": [
    "from transformers import AutoModelForSequenceClassification, AutoTokenizer\n",
    "import torch\n",
    "import numpy as np\n",
    "import math\n",
    "from matplotlib import pyplot as plt \n",
    "from datasets import load_dataset\n",
    "import pandas as pd"
   ]
  },
  {
   "cell_type": "code",
   "execution_count": 3,
   "id": "c556543f",
   "metadata": {},
   "outputs": [
    {
     "name": "stderr",
     "output_type": "stream",
     "text": [
      "Some weights of the model checkpoint at prajjwal1/bert-tiny were not used when initializing BertForSequenceClassification: ['cls.predictions.decoder.bias', 'cls.predictions.transform.LayerNorm.weight', 'cls.predictions.transform.dense.weight', 'cls.predictions.transform.LayerNorm.bias', 'cls.predictions.bias', 'cls.predictions.transform.dense.bias', 'cls.predictions.decoder.weight', 'cls.seq_relationship.weight', 'cls.seq_relationship.bias']\n",
      "- This IS expected if you are initializing BertForSequenceClassification from the checkpoint of a model trained on another task or with another architecture (e.g. initializing a BertForSequenceClassification model from a BertForPreTraining model).\n",
      "- This IS NOT expected if you are initializing BertForSequenceClassification from the checkpoint of a model that you expect to be exactly identical (initializing a BertForSequenceClassification model from a BertForSequenceClassification model).\n",
      "Some weights of BertForSequenceClassification were not initialized from the model checkpoint at prajjwal1/bert-tiny and are newly initialized: ['classifier.weight', 'classifier.bias']\n",
      "You should probably TRAIN this model on a down-stream task to be able to use it for predictions and inference.\n"
     ]
    },
    {
     "data": {
      "text/plain": [
       "BertForSequenceClassification(\n",
       "  (bert): BertModel(\n",
       "    (embeddings): BertEmbeddings(\n",
       "      (word_embeddings): Embedding(30522, 128, padding_idx=0)\n",
       "      (position_embeddings): Embedding(512, 128)\n",
       "      (token_type_embeddings): Embedding(2, 128)\n",
       "      (LayerNorm): LayerNorm((128,), eps=1e-12, elementwise_affine=True)\n",
       "      (dropout): Dropout(p=0.1, inplace=False)\n",
       "    )\n",
       "    (encoder): BertEncoder(\n",
       "      (layer): ModuleList(\n",
       "        (0-1): 2 x BertLayer(\n",
       "          (attention): BertAttention(\n",
       "            (self): BertSelfAttention(\n",
       "              (query): Linear(in_features=128, out_features=128, bias=True)\n",
       "              (key): Linear(in_features=128, out_features=128, bias=True)\n",
       "              (value): Linear(in_features=128, out_features=128, bias=True)\n",
       "              (dropout): Dropout(p=0.1, inplace=False)\n",
       "            )\n",
       "            (output): BertSelfOutput(\n",
       "              (dense): Linear(in_features=128, out_features=128, bias=True)\n",
       "              (LayerNorm): LayerNorm((128,), eps=1e-12, elementwise_affine=True)\n",
       "              (dropout): Dropout(p=0.1, inplace=False)\n",
       "            )\n",
       "          )\n",
       "          (intermediate): BertIntermediate(\n",
       "            (dense): Linear(in_features=128, out_features=512, bias=True)\n",
       "            (intermediate_act_fn): GELUActivation()\n",
       "          )\n",
       "          (output): BertOutput(\n",
       "            (dense): Linear(in_features=512, out_features=128, bias=True)\n",
       "            (LayerNorm): LayerNorm((128,), eps=1e-12, elementwise_affine=True)\n",
       "            (dropout): Dropout(p=0.1, inplace=False)\n",
       "          )\n",
       "        )\n",
       "      )\n",
       "    )\n",
       "    (pooler): BertPooler(\n",
       "      (dense): Linear(in_features=128, out_features=128, bias=True)\n",
       "      (activation): Tanh()\n",
       "    )\n",
       "  )\n",
       "  (dropout): Dropout(p=0.1, inplace=False)\n",
       "  (classifier): Linear(in_features=128, out_features=2, bias=True)\n",
       ")"
      ]
     },
     "execution_count": 3,
     "metadata": {},
     "output_type": "execute_result"
    }
   ],
   "source": [
    "#The same as https://huggingface.co/google/bert_uncased_L-2_H-128_A-2\n",
    "\n",
    "tokenizer = AutoTokenizer.from_pretrained(\"prajjwal1/bert-tiny\")\n",
    "model = AutoModelForSequenceClassification.from_pretrained(\"prajjwal1/bert-tiny\")\n",
    "\n",
    "trained = torch.load('SST-2-BERT-tiny.bin', map_location=torch.device('cpu'))\n",
    "model.load_state_dict(trained , strict=True)\n",
    "\n",
    "model.eval()"
   ]
  },
  {
   "cell_type": "code",
   "execution_count": 4,
   "id": "ea8b379b",
   "metadata": {},
   "outputs": [],
   "source": [
    "dataset = pd.read_parquet(\"SST-2-val.parquet\")"
   ]
  },
  {
   "cell_type": "code",
   "execution_count": 5,
   "id": "fbf1654b",
   "metadata": {},
   "outputs": [
    {
     "data": {
      "text/html": [
       "<div>\n",
       "<style scoped>\n",
       "    .dataframe tbody tr th:only-of-type {\n",
       "        vertical-align: middle;\n",
       "    }\n",
       "\n",
       "    .dataframe tbody tr th {\n",
       "        vertical-align: top;\n",
       "    }\n",
       "\n",
       "    .dataframe thead th {\n",
       "        text-align: right;\n",
       "    }\n",
       "</style>\n",
       "<table border=\"1\" class=\"dataframe\">\n",
       "  <thead>\n",
       "    <tr style=\"text-align: right;\">\n",
       "      <th></th>\n",
       "      <th>sentence</th>\n",
       "      <th>label</th>\n",
       "      <th>idx</th>\n",
       "    </tr>\n",
       "  </thead>\n",
       "  <tbody>\n",
       "    <tr>\n",
       "      <th>0</th>\n",
       "      <td>it 's a charming and often affecting journey .</td>\n",
       "      <td>1</td>\n",
       "      <td>0</td>\n",
       "    </tr>\n",
       "    <tr>\n",
       "      <th>1</th>\n",
       "      <td>unflinchingly bleak and desperate</td>\n",
       "      <td>0</td>\n",
       "      <td>1</td>\n",
       "    </tr>\n",
       "    <tr>\n",
       "      <th>2</th>\n",
       "      <td>allows us to hope that nolan is poised to emba...</td>\n",
       "      <td>1</td>\n",
       "      <td>2</td>\n",
       "    </tr>\n",
       "    <tr>\n",
       "      <th>3</th>\n",
       "      <td>the acting , costumes , music , cinematography...</td>\n",
       "      <td>1</td>\n",
       "      <td>3</td>\n",
       "    </tr>\n",
       "    <tr>\n",
       "      <th>4</th>\n",
       "      <td>it 's slow -- very , very slow .</td>\n",
       "      <td>0</td>\n",
       "      <td>4</td>\n",
       "    </tr>\n",
       "    <tr>\n",
       "      <th>...</th>\n",
       "      <td>...</td>\n",
       "      <td>...</td>\n",
       "      <td>...</td>\n",
       "    </tr>\n",
       "    <tr>\n",
       "      <th>867</th>\n",
       "      <td>has all the depth of a wading pool .</td>\n",
       "      <td>0</td>\n",
       "      <td>867</td>\n",
       "    </tr>\n",
       "    <tr>\n",
       "      <th>868</th>\n",
       "      <td>a movie with a real anarchic flair .</td>\n",
       "      <td>1</td>\n",
       "      <td>868</td>\n",
       "    </tr>\n",
       "    <tr>\n",
       "      <th>869</th>\n",
       "      <td>a subject like this should inspire reaction in...</td>\n",
       "      <td>0</td>\n",
       "      <td>869</td>\n",
       "    </tr>\n",
       "    <tr>\n",
       "      <th>870</th>\n",
       "      <td>... is an arthritic attempt at directing by ca...</td>\n",
       "      <td>0</td>\n",
       "      <td>870</td>\n",
       "    </tr>\n",
       "    <tr>\n",
       "      <th>871</th>\n",
       "      <td>looking aristocratic , luminous yet careworn i...</td>\n",
       "      <td>1</td>\n",
       "      <td>871</td>\n",
       "    </tr>\n",
       "  </tbody>\n",
       "</table>\n",
       "<p>872 rows × 3 columns</p>\n",
       "</div>"
      ],
      "text/plain": [
       "                                              sentence  label  idx\n",
       "0      it 's a charming and often affecting journey .       1    0\n",
       "1                   unflinchingly bleak and desperate       0    1\n",
       "2    allows us to hope that nolan is poised to emba...      1    2\n",
       "3    the acting , costumes , music , cinematography...      1    3\n",
       "4                    it 's slow -- very , very slow .       0    4\n",
       "..                                                 ...    ...  ...\n",
       "867              has all the depth of a wading pool .       0  867\n",
       "868              a movie with a real anarchic flair .       1  868\n",
       "869  a subject like this should inspire reaction in...      0  869\n",
       "870  ... is an arthritic attempt at directing by ca...      0  870\n",
       "871  looking aristocratic , luminous yet careworn i...      1  871\n",
       "\n",
       "[872 rows x 3 columns]"
      ]
     },
     "execution_count": 5,
     "metadata": {},
     "output_type": "execute_result"
    }
   ],
   "source": [
    "dataset"
   ]
  },
  {
   "cell_type": "code",
   "execution_count": 6,
   "id": "7c0310f3",
   "metadata": {},
   "outputs": [],
   "source": [
    "from random import randrange"
   ]
  },
  {
   "cell_type": "code",
   "execution_count": 7,
   "id": "8a2552c4",
   "metadata": {},
   "outputs": [
    {
     "name": "stdout",
     "output_type": "stream",
     "text": [
      "Sentence: for all the writhing and wailing , tears , rage and opium overdoses , there 's no sense of actual passion being washed away in love 's dissolution . \n",
      "Label:   0\n"
     ]
    }
   ],
   "source": [
    "rand_index = randrange(len(dataset))\n",
    "print(\"Sentence: {}\\nLabel:   {}\".format(dataset['sentence'][rand_index], dataset['label'][rand_index]))"
   ]
  },
  {
   "cell_type": "code",
   "execution_count": 22,
   "id": "7d5e9662",
   "metadata": {},
   "outputs": [
    {
     "name": "stdout",
     "output_type": "stream",
     "text": [
      "sudo nice -n 8 ./NewBERT \"fancy a real downer ? \"\n",
      "sudo nice -n 8 ./NewBERT \"a rewarding work of art for only the most patient and challenge-hungry moviegoers . \"\n",
      "sudo nice -n 8 ./NewBERT \"it 's worth seeing just on the basis of the wisdom , and at times , the startling optimism , of the children . \"\n",
      "sudo nice -n 8 ./NewBERT \"not really bad so much as distasteful : we need kidnapping suspense dramas right now like we need doomsday thrillers . \"\n",
      "sudo nice -n 8 ./NewBERT \"a warm but realistic meditation on friendship , family and affection . \"\n",
      "sudo nice -n 8 ./NewBERT \"it 's a work by an artist so in control of both his medium and his message that he can improvise like a jazzman . \"\n",
      "sudo nice -n 8 ./NewBERT \"for starters , the story is just too slim . \"\n",
      "sudo nice -n 8 ./NewBERT \"this is a story of two misfits who do n't stand a chance alone , but together they are magnificent . \"\n",
      "sudo nice -n 8 ./NewBERT \"for this reason and this reason only -- the power of its own steadfast , hoity-toity convictions -- chelsea walls deserves a medal . \"\n",
      "sudo nice -n 8 ./NewBERT \"sticky sweet sentimentality , clumsy plotting and a rosily myopic view of life in the wwii-era mississippi delta undermine this adaptation . \"\n",
      "sudo nice -n 8 ./NewBERT \"a quiet treasure -- a film to be savored . \"\n",
      "sudo nice -n 8 ./NewBERT \"serving sara does n't serve up a whole lot of laughs . \"\n",
      "sudo nice -n 8 ./NewBERT \"the best film about baseball to hit theaters since field of dreams . \"\n",
      "sudo nice -n 8 ./NewBERT \"cq 's reflection of artists and the love of cinema-and-self suggests nothing less than a new voice that deserves to be considered as a possible successor to the best european directors . \"\n",
      "sudo nice -n 8 ./NewBERT \"one of creepiest , scariest movies to come along in a long , long time , easily rivaling blair witch or the others . \"\n",
      "sudo nice -n 8 ./NewBERT \"its story may be a thousand years old , but why did it have to seem like it took another thousand to tell it to us ? \"\n",
      "sudo nice -n 8 ./NewBERT \"... plot holes so large and obvious a marching band might as well be stomping through them in clown clothes , playing a college football fight song on untuned instruments . \"\n",
      "sudo nice -n 8 ./NewBERT \"combining quick-cut editing and a blaring heavy metal much of the time , beck seems to be under the illusion that he 's shooting the latest system of a down video . \"\n",
      "sudo nice -n 8 ./NewBERT \"it is great summer fun to watch arnold and his buddy gerald bounce off a quirky cast of characters . \"\n",
      "sudo nice -n 8 ./NewBERT \"the volatile dynamics of female friendship is the subject of this unhurried , low-key film that is so off-hollywood that it seems positively french in its rhythms and resonance . \"\n"
     ]
    }
   ],
   "source": [
    "for i in range(20):\n",
    "    print('sudo nice -n 8 ./NewBERT \"{}\"'.format(dataset['sentence'][randrange(len(dataset))]))"
   ]
  },
  {
   "cell_type": "code",
   "execution_count": 8,
   "id": "cb7cdd74",
   "metadata": {},
   "outputs": [
    {
     "name": "stdout",
     "output_type": "stream",
     "text": [
      "sudo nice -n 8 ./NewBERT \"scooby dooby doo / and shaggy too / you both look and sound great . \"\n",
      "sudo nice -n 8 ./NewBERT \"irwin is a man with enough charisma and audacity to carry a dozen films , but this particular result is ultimately held back from being something greater . \"\n",
      "sudo nice -n 8 ./NewBERT \"verbinski implements every hack-artist trick to give us the ooky-spookies . \"\n",
      "sudo nice -n 8 ./NewBERT \"a romantic comedy enriched by a sharp eye for manners and mores . \"\n",
      "sudo nice -n 8 ./NewBERT \"this is so bad . \"\n",
      "sudo nice -n 8 ./NewBERT \"zhang ... has done an amazing job of getting realistic performances from his mainly nonprofessional cast . \"\n",
      "sudo nice -n 8 ./NewBERT \"another in-your-face wallow in the lower depths made by people who have never sung those blues . \"\n",
      "sudo nice -n 8 ./NewBERT \"pumpkin means to be an outrageous dark satire on fraternity life , but its ambitions far exceed the abilities of writer adam larson broder and his co-director , tony r. abrams , in their feature debut . \"\n",
      "sudo nice -n 8 ./NewBERT \"there is a fabric of complex ideas here , and feelings that profoundly deepen them . \"\n",
      "sudo nice -n 8 ./NewBERT \"it 's made with deftly unsettling genre flair . \"\n",
      "sudo nice -n 8 ./NewBERT \"it 's a stunning lyrical work of considerable force and truth . \"\n",
      "sudo nice -n 8 ./NewBERT \"this nickleby thing might have more homosexual undertones than an eddie murphy film . \"\n",
      "sudo nice -n 8 ./NewBERT \"it proves quite compelling as an intense , brooding character study . \"\n",
      "sudo nice -n 8 ./NewBERT \"an entertaining , colorful , action-filled crime story with an intimate heart . \"\n",
      "sudo nice -n 8 ./NewBERT \"there 's a wickedly subversive bent to the best parts of birthday girl . \"\n",
      "sudo nice -n 8 ./NewBERT \"lovely and poignant . \"\n",
      "sudo nice -n 8 ./NewBERT \"with tightly organized efficiency , numerous flashbacks and a constant edge of tension , miller 's film is one of 2002 's involvingly adult surprises . \"\n",
      "sudo nice -n 8 ./NewBERT \"an exquisitely crafted and acted tale . \"\n",
      "sudo nice -n 8 ./NewBERT \"coughs and sputters on its own postmodern conceit . \"\n",
      "sudo nice -n 8 ./NewBERT \"it just may inspire a few younger moviegoers to read stevenson 's book , which is a treasure in and of itself . \"\n"
     ]
    }
   ],
   "source": [
    "for i in range(20):\n",
    "    print('sudo nice -n 8 ./NewBERT \"{}\"'.format(dataset['sentence'][randrange(len(dataset))]))"
   ]
  },
  {
   "cell_type": "code",
   "execution_count": 9,
   "id": "b814707b",
   "metadata": {},
   "outputs": [
    {
     "name": "stdout",
     "output_type": "stream",
     "text": [
      "sudo nice -n 8 ./NewBERT \"of course , by more objective measurements it 's still quite bad . \"\n",
      "sudo nice -n 8 ./NewBERT \"this time mr. burns is trying something in the martin scorsese street-realist mode , but his self-regarding sentimentality trips him up again . \"\n",
      "sudo nice -n 8 ./NewBERT \"the story and the friendship proceeds in such a way that you 're watching a soap opera rather than a chronicle of the ups and downs that accompany lifelong friendships . \"\n",
      "sudo nice -n 8 ./NewBERT \"mattei is tiresomely grave and long-winded , as if circularity itself indicated profundity . \"\n",
      "sudo nice -n 8 ./NewBERT \"it 's so mediocre , despite the dynamic duo on the marquee , that we just ca n't get no satisfaction . \"\n",
      "sudo nice -n 8 ./NewBERT \"sit through this one , and you wo n't need a magic watch to stop time ; your dvd player will do it for you . \"\n",
      "sudo nice -n 8 ./NewBERT \"you wo n't like roger , but you will quickly recognize him . \"\n",
      "sudo nice -n 8 ./NewBERT \"the film 's welcome breeziness and some unbelievably hilarious moments -- most portraying the idiocy of the film industry -- make it mostly worth the trip . \"\n",
      "sudo nice -n 8 ./NewBERT \"( t ) his beguiling belgian fable , very much its own droll and delicate little film , has some touching things to say about what is important in life and why . \"\n",
      "sudo nice -n 8 ./NewBERT \"it appears that something has been lost in the translation to the screen . \"\n",
      "sudo nice -n 8 ./NewBERT \"the so-inept - it 's - surreal dubbing ( featuring the voices of glenn close , regis philbin and breckin meyer ) brings back memories of cheesy old godzilla flicks . \"\n",
      "sudo nice -n 8 ./NewBERT \"based on a devilishly witty script by heather mcgowan and niels mueller , the film gets great laughs , but never at the expense of its characters \"\n",
      "sudo nice -n 8 ./NewBERT \"even if you do n't think ( kissinger 's ) any more guilty of criminal activity than most contemporary statesmen , he 'd sure make a courtroom trial great fun to watch . \"\n",
      "sudo nice -n 8 ./NewBERT \"due to some script weaknesses and the casting of the director 's brother , the film trails off into inconsequentiality . \"\n",
      "sudo nice -n 8 ./NewBERT \"richard gere and diane lane put in fine performances as does french actor oliver martinez . \"\n",
      "sudo nice -n 8 ./NewBERT \"further proof that the epicenter of cool , beautiful , thought-provoking foreign cinema is smack-dab in the middle of dubya 's axis of evil . \"\n",
      "sudo nice -n 8 ./NewBERT \"dense with characters and contains some thrilling moments . \"\n",
      "sudo nice -n 8 ./NewBERT \"it 's like watching a nightmare made flesh . \"\n",
      "sudo nice -n 8 ./NewBERT \"zhang ... has done an amazing job of getting realistic performances from his mainly nonprofessional cast . \"\n",
      "sudo nice -n 8 ./NewBERT \"for the most part stevens glides through on some solid performances and witty dialogue . \"\n"
     ]
    }
   ],
   "source": [
    "for i in range(20):\n",
    "    print('sudo nice -n 8 ./NewBERT \"{}\"'.format(dataset['sentence'][randrange(len(dataset))]))"
   ]
  },
  {
   "cell_type": "code",
   "execution_count": 5,
   "id": "66148ca9",
   "metadata": {},
   "outputs": [],
   "source": [
    "shapes = []\n",
    "\n",
    "for ind in dataset.index:\n",
    "    \n",
    "    text = \"[CLS] \" + dataset['sentence'][ind] + \" [SEP]\"\n",
    "\n",
    "    tokenized = tokenizer(text)\n",
    "    tokenized_text = tokenizer.tokenize(text)\n",
    "    indexed_tokens = tokenizer.convert_tokens_to_ids(tokenized_text)\n",
    "    tokens_tensor = torch.tensor([indexed_tokens])\n",
    "        \n",
    "    x = model.bert.embeddings(tokens_tensor, torch.tensor([[1] * len(tokenized_text)]))\n",
    "    \n",
    "    shapes.append(x.shape[1])"
   ]
  },
  {
   "cell_type": "code",
   "execution_count": 6,
   "id": "bdb93aa0",
   "metadata": {},
   "outputs": [
    {
     "data": {
      "text/plain": [
       "(array([872., 836., 721., 589., 436., 282., 171.,  93.,  32.,  12.]),\n",
       " array([ 4. ,  9.1, 14.2, 19.3, 24.4, 29.5, 34.6, 39.7, 44.8, 49.9, 55. ]),\n",
       " <BarContainer object of 10 artists>)"
      ]
     },
     "execution_count": 6,
     "metadata": {},
     "output_type": "execute_result"
    },
    {
     "data": {
      "image/png": "[encoded data removed]",
      "text/plain": [
       "<Figure size 640x480 with 1 Axes>"
      ]
     },
     "metadata": {},
     "output_type": "display_data"
    }
   ],
   "source": [
    "plt.hist(shapes, cumulative=-1)"
   ]
  },
  {
   "cell_type": "code",
   "execution_count": 8,
   "id": "8d2ff36b",
   "metadata": {},
   "outputs": [],
   "source": [
    "distances = []\n",
    "\n",
    "distances_small = []\n",
    "\n",
    "for ind in dataset.index:\n",
    "    \n",
    "    text = \"[CLS] \" + dataset['sentence'][ind] + \" [SEP]\"\n",
    "\n",
    "    tokenized = tokenizer(text)\n",
    "    tokenized_text = tokenizer.tokenize(text)\n",
    "    indexed_tokens = tokenizer.convert_tokens_to_ids(tokenized_text)\n",
    "    tokens_tensor = torch.tensor([indexed_tokens])\n",
    "        \n",
    "    res = model(tokens_tensor, torch.tensor([[1] * len(tokenized_text)]))\n",
    "    distances.append(abs(res.logits[0][0].item() - res.logits[0][1].item()))\n",
    "    \n",
    "    if abs(res.logits[0][0].item() - res.logits[0][1].item()) < 0.5:\n",
    "        distances_small.append(ind)\n",
    "    "
   ]
  },
  {
   "cell_type": "code",
   "execution_count": 9,
   "id": "3d66da3f",
   "metadata": {},
   "outputs": [
    {
     "data": {
      "text/plain": [
       "0.9426605504587156"
      ]
     },
     "execution_count": 9,
     "metadata": {},
     "output_type": "execute_result"
    }
   ],
   "source": [
    "1 - len(distances_small) / len(dataset)"
   ]
  },
  {
   "cell_type": "markdown",
   "id": "d854aa8a",
   "metadata": {},
   "source": [
    "TODO: lanciare FHE BERT con queste:"
   ]
  },
  {
   "cell_type": "code",
   "execution_count": 27,
   "id": "de1f6f58",
   "metadata": {},
   "outputs": [
    {
     "name": "stdout",
     "output_type": "stream",
     "text": [
      "Sono 50\n",
      "24 tokens\n",
      "36 tokens\n",
      "38 tokens\n",
      "16 tokens\n",
      "12 tokens\n",
      "35 tokens\n",
      "22 tokens\n",
      "36 tokens\n",
      "15 tokens\n",
      "30 tokens\n",
      "28 tokens\n",
      "18 tokens\n",
      "36 tokens\n",
      "37 tokens\n",
      "18 tokens\n",
      "13 tokens\n",
      "50 tokens\n",
      "39 tokens\n",
      "39 tokens\n",
      "38 tokens\n",
      "14 tokens\n",
      "23 tokens\n",
      "2 tokens\n",
      "33 tokens\n",
      "13 tokens\n",
      "12 tokens\n",
      "25 tokens\n",
      "23 tokens\n",
      "24 tokens\n",
      "40 tokens\n",
      "26 tokens\n",
      "35 tokens\n",
      "38 tokens\n",
      "33 tokens\n",
      "26 tokens\n",
      "28 tokens\n",
      "11 tokens\n",
      "34 tokens\n",
      "16 tokens\n",
      "42 tokens\n",
      "30 tokens\n",
      "15 tokens\n",
      "38 tokens\n",
      "28 tokens\n",
      "23 tokens\n",
      "33 tokens\n",
      "15 tokens\n",
      "25 tokens\n",
      "39 tokens\n",
      "9 tokens\n"
     ]
    }
   ],
   "source": [
    "print(\"Sono {}\".format(len(distances_small)))\n",
    "for el in distances_small:\n",
    "    print(\"{} tokens\".format(len(tokenizer.tokenize(dataset['sentence'][el]))))"
   ]
  },
  {
   "cell_type": "code",
   "execution_count": 28,
   "id": "7a80d2ca",
   "metadata": {},
   "outputs": [],
   "source": [
    "def get_logits(text):\n",
    "    text = \"[CLS] \" + dataset['sentence'][distances_small[1]] + \" [SEP]\"\n",
    "\n",
    "    tokenized = tokenizer(text)\n",
    "    tokenized_text = tokenizer.tokenize(text)\n",
    "    indexed_tokens = tokenizer.convert_tokens_to_ids(tokenized_text)\n",
    "    tokens_tensor = torch.tensor([indexed_tokens])\n",
    "    return model(tokens_tensor, torch.tensor([[1] * len(tokenized_text)])).logits[0].detach()"
   ]
  },
  {
   "cell_type": "code",
   "execution_count": 29,
   "id": "7f914578",
   "metadata": {},
   "outputs": [
    {
     "name": "stdout",
     "output_type": "stream",
     "text": [
      "Sentence: we root for ( clara and paul ) , even like them , though perhaps it 's an emotion closer to pity . \n",
      "Logits: tensor([ 0.1886, -0.1056])\n"
     ]
    }
   ],
   "source": [
    "print(\"Sentence: {}\\nLogits: {}\".format(dataset['sentence'][distances_small[0]], get_logits(dataset['sentence'][distances_small[0]])))\n",
    "#Correct con precomp"
   ]
  },
  {
   "cell_type": "code",
   "execution_count": 43,
   "id": "d141382a",
   "metadata": {},
   "outputs": [
    {
     "name": "stdout",
     "output_type": "stream",
     "text": [
      "Sentence: \"... designed to provide a mix of smiles and tears , `` crossroads '' instead provokes a handful of unintentional howlers and numerous yawns . \"\n",
      "Logits: tensor([ 0.1886, -0.1056])\n"
     ]
    }
   ],
   "source": [
    "print(\"Sentence: \\\"{}\\\"\\nLogits: {}\".format(dataset['sentence'][distances_small[1]], get_logits(dataset['sentence'][distances_small[1]])))\n",
    "#Correct con precomp"
   ]
  },
  {
   "cell_type": "code",
   "execution_count": 44,
   "id": "653754f0",
   "metadata": {},
   "outputs": [
    {
     "name": "stdout",
     "output_type": "stream",
     "text": [
      "Sentence: \"( w ) hile long on amiable monkeys and worthy environmentalism , jane goodall 's wild chimpanzees is short on the thrills the oversize medium demands . \"\n",
      "Logits: tensor([ 0.1886, -0.1056])\n"
     ]
    }
   ],
   "source": [
    "idx = 2\n",
    "print(\"Sentence: \\\"{}\\\"\\nLogits: {}\".format(dataset['sentence'][distances_small[idx]], get_logits(dataset['sentence'][distances_small[idx]])))\n",
    "#Correct con precomp"
   ]
  },
  {
   "cell_type": "code",
   "execution_count": 32,
   "id": "debf953d",
   "metadata": {},
   "outputs": [
    {
     "name": "stdout",
     "output_type": "stream",
     "text": [
      "Sentence: it offers little beyond the momentary joys of pretty and weightless intellectual entertainment . \n",
      "Logits: tensor([ 0.1886, -0.1056])\n"
     ]
    }
   ],
   "source": [
    "idx = 3\n",
    "print(\"Sentence: {}\\nLogits: {}\".format(dataset['sentence'][distances_small[idx]], get_logits(dataset['sentence'][distances_small[idx]])))\n",
    "#Correct con precomp"
   ]
  },
  {
   "cell_type": "code",
   "execution_count": 33,
   "id": "6f1a34e9",
   "metadata": {},
   "outputs": [
    {
     "name": "stdout",
     "output_type": "stream",
     "text": [
      "Sentence: manages to be both repulsively sadistic and mundane . \n",
      "Logits: tensor([ 0.1886, -0.1056])\n"
     ]
    }
   ],
   "source": [
    "idx = 4\n",
    "print(\"Sentence: {}\\nLogits: {}\".format(dataset['sentence'][distances_small[idx]], get_logits(dataset['sentence'][distances_small[idx]])))\n",
    "#Wrong con precomp"
   ]
  },
  {
   "cell_type": "code",
   "execution_count": 34,
   "id": "f1d60812",
   "metadata": {},
   "outputs": [
    {
     "name": "stdout",
     "output_type": "stream",
     "text": [
      "Sentence: \"it 's just disappointingly superficial -- a movie that has all the elements necessary to be a fascinating , involving character study , but never does more than scratch the surface . \"\n",
      "Logits: tensor([ 0.1886, -0.1056])\n"
     ]
    }
   ],
   "source": [
    "idx = 5\n",
    "print(\"Sentence: \\\"{}\\\"\\nLogits: {}\".format(dataset['sentence'][distances_small[idx]], get_logits(dataset['sentence'][distances_small[idx]])))\n",
    "#OVERFLOW (1/x a 180000)"
   ]
  },
  {
   "cell_type": "code",
   "execution_count": 35,
   "id": "865b77a7",
   "metadata": {},
   "outputs": [
    {
     "name": "stdout",
     "output_type": "stream",
     "text": [
      "Sentence: \"it 's one pussy-ass world when even killer-thrillers revolve around group therapy sessions . \"\n",
      "Logits: tensor([ 0.1886, -0.1056])\n"
     ]
    }
   ],
   "source": [
    "idx = 6\n",
    "print(\"Sentence: \\\"{}\\\"\\nLogits: {}\".format(dataset['sentence'][distances_small[idx]], get_logits(dataset['sentence'][distances_small[idx]])))\n",
    "#Correct con precomp"
   ]
  },
  {
   "cell_type": "code",
   "execution_count": 36,
   "id": "00ca8f83",
   "metadata": {},
   "outputs": [
    {
     "name": "stdout",
     "output_type": "stream",
     "text": [
      "Sentence: \"fresnadillo 's dark and jolting images have a way of plying into your subconscious like the nightmare you had a week ago that wo n't go away . \"\n",
      "Logits: tensor([ 0.1886, -0.1056])\n"
     ]
    }
   ],
   "source": [
    "idx = 7\n",
    "print(\"Sentence: \\\"{}\\\"\\nLogits: {}\".format(dataset['sentence'][distances_small[idx]], get_logits(dataset['sentence'][distances_small[idx]])))\n",
    "#Correct con precomp"
   ]
  },
  {
   "cell_type": "code",
   "execution_count": 37,
   "id": "b6476b57",
   "metadata": {},
   "outputs": [
    {
     "name": "stdout",
     "output_type": "stream",
     "text": [
      "Sentence: \"you wo n't like roger , but you will quickly recognize him . \"\n",
      "Logits: tensor([ 0.1886, -0.1056])\n"
     ]
    }
   ],
   "source": [
    "idx = 8\n",
    "print(\"Sentence: \\\"{}\\\"\\nLogits: {}\".format(dataset['sentence'][distances_small[idx]], get_logits(dataset['sentence'][distances_small[idx]])))\n",
    "#Correct con precomp"
   ]
  },
  {
   "cell_type": "code",
   "execution_count": 39,
   "id": "2be216a8",
   "metadata": {},
   "outputs": [
    {
     "name": "stdout",
     "output_type": "stream",
     "text": [
      "Sentence: \"byler reveals his characters in a way that intrigues and even fascinates us , and he never reduces the situation to simple melodrama . \"\n",
      "Logits: tensor([ 0.1886, -0.1056])\n"
     ]
    }
   ],
   "source": [
    "idx = 9\n",
    "print(\"Sentence: \\\"{}\\\"\\nLogits: {}\".format(dataset['sentence'][distances_small[idx]], get_logits(dataset['sentence'][distances_small[idx]])))\n",
    "#Correct con precomp"
   ]
  },
  {
   "cell_type": "code",
   "execution_count": 40,
   "id": "68181af1",
   "metadata": {},
   "outputs": [
    {
     "name": "stdout",
     "output_type": "stream",
     "text": [
      "Sentence: \"no sophomore slump for director sam mendes , who segues from oscar winner to oscar-winning potential with a smooth sleight of hand . \"\n",
      "Logits: tensor([ 0.1886, -0.1056])\n"
     ]
    }
   ],
   "source": [
    "idx = 10\n",
    "print(\"Sentence: \\\"{}\\\"\\nLogits: {}\".format(dataset['sentence'][distances_small[idx]], get_logits(dataset['sentence'][distances_small[idx]])))\n",
    "#Correct con precomp"
   ]
  },
  {
   "cell_type": "code",
   "execution_count": 41,
   "id": "a78dacf3",
   "metadata": {},
   "outputs": [
    {
     "name": "stdout",
     "output_type": "stream",
     "text": [
      "Sentence: \"comes ... uncomfortably close to coasting in the treads of the bicycle thief . \"\n",
      "Logits: tensor([ 0.1886, -0.1056])\n"
     ]
    }
   ],
   "source": [
    "idx = 11\n",
    "print(\"Sentence: \\\"{}\\\"\\nLogits: {}\".format(dataset['sentence'][distances_small[idx]], get_logits(dataset['sentence'][distances_small[idx]])))\n",
    "#Correct con precomp"
   ]
  },
  {
   "cell_type": "code",
   "execution_count": 42,
   "id": "21f99af8",
   "metadata": {},
   "outputs": [
    {
     "name": "stdout",
     "output_type": "stream",
     "text": [
      "Sentence: \"( lawrence bounces ) all over the stage , dancing , running , sweating , mopping his face and generally displaying the wacky talent that brought him fame in the first place . \"\n",
      "Logits: tensor([ 0.1886, -0.1056])\n"
     ]
    }
   ],
   "source": [
    "idx = 12\n",
    "print(\"Sentence: \\\"{}\\\"\\nLogits: {}\".format(dataset['sentence'][distances_small[idx]], get_logits(dataset['sentence'][distances_small[idx]])))\n",
    "#Sbagliato con precomp"
   ]
  },
  {
   "cell_type": "code",
   "execution_count": 45,
   "id": "fa60c628",
   "metadata": {},
   "outputs": [
    {
     "name": "stdout",
     "output_type": "stream",
     "text": [
      "Sentence: \"in the end , we are left with something like two ships passing in the night rather than any insights into gay love , chinese society or the price one pays for being dishonest . \"\n",
      "Logits: tensor([ 0.1886, -0.1056])\n"
     ]
    }
   ],
   "source": [
    "idx = 13\n",
    "print(\"Sentence: \\\"{}\\\"\\nLogits: {}\".format(dataset['sentence'][distances_small[idx]], get_logits(dataset['sentence'][distances_small[idx]])))\n",
    "#"
   ]
  },
  {
   "cell_type": "markdown",
   "id": "7e4238f9",
   "metadata": {},
   "source": [
    "Su 50, 30 saranno giuste"
   ]
  },
  {
   "cell_type": "code",
   "execution_count": 11,
   "id": "86b9cc08",
   "metadata": {},
   "outputs": [
    {
     "data": {
      "text/plain": [
       "0.9770642201834863"
      ]
     },
     "execution_count": 11,
     "metadata": {},
     "output_type": "execute_result"
    }
   ],
   "source": [
    "1 - (len(distances_small) - 30) / len(dataset)"
   ]
  },
  {
   "cell_type": "code",
   "execution_count": 12,
   "id": "1b49ca12",
   "metadata": {},
   "outputs": [
    {
     "data": {
      "text/plain": [
       "0.79630716"
      ]
     },
     "execution_count": 12,
     "metadata": {},
     "output_type": "execute_result"
    }
   ],
   "source": [
    "0.977064 * 0.815"
   ]
  }
 ],
 "metadata": {
  "kernelspec": {
   "display_name": "Python 3 (ipykernel)",
   "language": "python",
   "name": "python3"
  },
  "language_info": {
   "codemirror_mode": {
    "name": "ipython",
    "version": 3
   },
   "file_extension": ".py",
   "mimetype": "text/x-python",
   "name": "python",
   "nbconvert_exporter": "python",
   "pygments_lexer": "ipython3",
   "version": "3.9.6"
  }
 },
 "nbformat": 4,
 "nbformat_minor": 5
}
